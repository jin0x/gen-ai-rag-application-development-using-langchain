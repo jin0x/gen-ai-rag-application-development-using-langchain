{
 "cells": [
  {
   "cell_type": "markdown",
   "id": "9995428c",
   "metadata": {},
   "source": [
    "## Getting a bit more deeper into Agents"
   ]
  },
  {
   "cell_type": "markdown",
   "id": "d43822e8",
   "metadata": {},
   "source": [
    "### Conversational ReAct Agents\n",
    "This agent is designed for use in conversational settings. It incorporates the React framework to determine which tool to use and utilizes memory to remember previous conversation interactions."
   ]
  },
  {
   "cell_type": "code",
   "execution_count": null,
   "id": "a73bf65e",
   "metadata": {},
   "outputs": [],
   "source": [
    "%pip install langchain langchain_openai python-dotenv duckduckgo_search wikipedia"
   ]
  },
  {
   "cell_type": "code",
   "execution_count": null,
   "id": "e3da1f22",
   "metadata": {},
   "outputs": [],
   "source": [
    "from langchain.agents import create_react_agent, load_tools\n",
    "from langchain_openai import ChatOpenAI\n",
    "from langchain.memory import ConversationBufferMemory\n",
    "from langchain.agents import initialize_agent\n",
    "from dotenv import load_dotenv\n",
    "load_dotenv()"
   ]
  },
  {
   "cell_type": "code",
   "execution_count": null,
   "id": "4c116d09",
   "metadata": {},
   "outputs": [],
   "source": [
    "llm = ChatOpenAI(temperature=0, model_name='gpt-3.5-turbo-0125')"
   ]
  },
  {
   "cell_type": "code",
   "execution_count": null,
   "id": "d7587b94",
   "metadata": {},
   "outputs": [],
   "source": [
    "tools = load_tools([\"llm-math\"],  llm=llm)"
   ]
  },
  {
   "cell_type": "code",
   "execution_count": null,
   "id": "2135da4f",
   "metadata": {},
   "outputs": [],
   "source": [
    "memory = ConversationBufferMemory(memory_key=\"chat_history\")\n",
    "\n",
    "conversational_agent = initialize_agent(\n",
    "    agent=\"conversational-react-description\",\n",
    "    tools=tools,\n",
    "    llm=llm,\n",
    "    verbose=True,\n",
    "    max_iterations=3,\n",
    "    memory=memory,)"
   ]
  },
  {
   "cell_type": "code",
   "execution_count": null,
   "id": "641ac30b",
   "metadata": {},
   "outputs": [],
   "source": [
    "output_1=conversational_agent.invoke(\"Add 7 to 9 and tell me the result\")\n",
    "output_2=conversational_agent.invoke(\"Add 5 to the previous result\")"
   ]
  },
  {
   "cell_type": "code",
   "execution_count": null,
   "id": "af86bb45",
   "metadata": {},
   "outputs": [],
   "source": [
    "print(output_1)\n",
    "print(output_2)"
   ]
  },
  {
   "cell_type": "markdown",
   "id": "89ccc34a",
   "metadata": {},
   "source": [
    "## ReAct Docstore\n",
    "This agent utilizes the React framework to communicate with a docstore. It requires the availability of a Search tool and a Lookup tool with identical names. The Search tool is used to search for a document, while the Lookup tool looks up a term within the most recently found document."
   ]
  },
  {
   "cell_type": "markdown",
   "id": "6e3d7420",
   "metadata": {},
   "source": [
    "A `docstore` in Langchain is essentially a storage system for documents. It provides a way for Langchain agents to access and interact with information. Think of it like a library, but instead of books, it holds pieces of text and associated data."
   ]
  },
  {
   "cell_type": "code",
   "execution_count": 1,
   "id": "8f602d64",
   "metadata": {},
   "outputs": [],
   "source": [
    "from langchain.agents import initialize_agent, Tool\n",
    "from langchain import Wikipedia\n",
    "from langchain_openai import OpenAI\n",
    "from langchain.agents.react.base import DocstoreExplorer"
   ]
  },
  {
   "cell_type": "code",
   "execution_count": 3,
   "id": "6dc87455",
   "metadata": {},
   "outputs": [
    {
     "name": "stderr",
     "output_type": "stream",
     "text": [
      "/Library/Frameworks/Python.framework/Versions/3.12/lib/python3.12/site-packages/langchain_core/_api/deprecation.py:117: LangChainDeprecationWarning: The class `langchain.agents.react.base.DocstoreExplorer` was deprecated in langchain 0.1.0 and will be removed in 0.2.0\n",
      "  warn_deprecated(\n",
      "/Library/Frameworks/Python.framework/Versions/3.12/lib/python3.12/site-packages/langchain_core/_api/deprecation.py:117: LangChainDeprecationWarning: The function `initialize_agent` was deprecated in LangChain 0.1.0 and will be removed in 0.2.0. Use Use new agent constructor methods like create_react_agent, create_json_agent, create_structured_chat_agent, etc. instead.\n",
      "  warn_deprecated(\n"
     ]
    }
   ],
   "source": [
    "docstore = DocstoreExplorer(Wikipedia())\n",
    "tools=[\n",
    "    Tool(name=\"Search\", func=docstore.search, description=\"useful for when you need to search wikipedia\"),\n",
    "    Tool(name=\"Lookup\", func=docstore.lookup, description=\"useful for when you need to lookup a term in wikipedia\")]\n",
    "\n",
    "#initializing the agent\n",
    "llm = OpenAI(temperature=0)\n",
    "docstore_agent=initialize_agent(\n",
    "    tools,\n",
    "    llm,\n",
    "    agent=\"react-docstore\",\n",
    "    verbose=True,\n",
    "    handle_parsing_errors=True,\n",
    "    max_iterations=8\n",
    ")"
   ]
  },
  {
   "cell_type": "code",
   "execution_count": 4,
   "id": "67b08b47",
   "metadata": {},
   "outputs": [
    {
     "name": "stdout",
     "output_type": "stream",
     "text": [
      "\n",
      "\n",
      "\u001b[1m> Entering new AgentExecutor chain...\u001b[0m\n",
      "\u001b[32;1m\u001b[1;3mThought: I need to search Mahatma Gandhi and find key information about him.\n",
      "Action: Search[Mahatma Gandhi]\u001b[0m\n",
      "Observation: \u001b[36;1m\u001b[1;3mMohandas Karamchand Gandhi (ISO: Mōhanadāsa Karamacaṁda Gāṁdhī; 2 October 1869 – 30 January 1948) was an Indian lawyer, anti-colonial nationalist and political ethicist who employed nonviolent resistance to lead the successful campaign for India's independence from British rule. He inspired movements for civil rights and freedom across the world. The honorific Mahātmā (from Sanskrit 'great-souled, venerable'), first applied to him in South Africa in 1914, is now used throughout the world.\n",
      "Born and raised in a Hindu family in coastal Gujarat, Gandhi trained in the law at the Inner Temple in London, and was called to the bar in June 1891, at the age of 22. After two uncertain years in India, where he was unable to start a successful law practice, he moved to South Africa in 1893 to represent an Indian merchant in a lawsuit. He went on to live in South Africa for 21 years. There, Gandhi raised a family and first employed nonviolent resistance in a campaign for civil rights. In 1915, aged 45, he returned to India and soon set about organising peasants, farmers, and urban labourers to protest against discrimination and excessive land-tax.\n",
      "Assuming leadership of the Indian National Congress in 1921, Gandhi led nationwide campaigns for easing poverty, expanding women's rights, building religious and ethnic amity, ending untouchability, and, above all, achieving swaraj or self-rule. Gandhi adopted the short dhoti woven with hand-spun yarn as a mark of identification with India's rural poor. He began to live in a self-sufficient residential community, to eat simple food, and undertake long fasts as a means of both introspection and political protest. Bringing anti-colonial nationalism to the common Indians, Gandhi led them in challenging the British-imposed salt tax with the 400 km (250 mi) Dandi Salt March in 1930 and in calling for the British to quit India in 1942. He was imprisoned many times and for many years in both South Africa and India.\n",
      "Gandhi's vision of an independent India based on religious pluralism was challenged in the early 1940s by a Muslim nationalism which demanded a separate homeland for Muslims within British India. In August 1947, Britain granted independence, but the British Indian Empire was partitioned into two dominions, a Hindu-majority India and a Muslim-majority Pakistan. As many displaced Hindus, Muslims, and Sikhs made their way to their new lands, religious violence broke out, especially in the Punjab and Bengal. Abstaining from the official celebration of independence, Gandhi visited the affected areas, attempting to alleviate distress. In the months following, he undertook several hunger strikes to stop the religious violence. The last of these was begun in Delhi on 12 January 1948, when he was 78. The belief that Gandhi had been too resolute in his defence of both Pakistan and Indian Muslims spread among some Hindus in India. Among these was Nathuram Godse, a militant Hindu nationalist from Pune, western India, who assassinated Gandhi by firing three bullets into his chest at an interfaith prayer meeting in Delhi on 30 January 1948. \n",
      "Gandhi's birthday, 2 October, is commemorated in India as Gandhi Jayanti, a national holiday, and worldwide as the International Day of Nonviolence. Gandhi is considered to be the Father of the Nation in post-colonial India. During India's nationalist movement and in several decades immediately after, he was also commonly called Bapu (Gujarati endearment for \"father\", roughly \"papa\", \"daddy\").\u001b[0m\n",
      "Thought:\u001b[32;1m\u001b[1;3mCould not parse LLM Output:  Mahatma Gandhi was an Indian lawyer, anti-colonial nationalist, and political ethicist who used nonviolent resistance to lead India to independence from British rule. He was born on October 2, 1869, and was assassinated on January 30, 1948. He is known as the Father of the Nation in India and is celebrated worldwide as the International Day of Nonviolence. He also inspired movements for civil rights and freedom around the world.\u001b[0m\n",
      "Observation: Invalid or incomplete response\n",
      "Thought:\u001b[32;1m\u001b[1;3m I need to search for key information about Mahatma Gandhi, such as his birthdate, accomplishments, and impact on the world.\n",
      "Action: Search[Mahatma Gandhi birthdate]\u001b[0m\n",
      "Observation: \u001b[36;1m\u001b[1;3mCould not find [Mahatma Gandhi birthdate]. Similar: ['Vithalbhai Patel', 'Birthday', 'B. R. Ambedkar', 'Influence and legacy of Swami Vivekananda', 'Brajesh Singh', 'Savitribai Phule', 'List of people from Uttar Pradesh', 'Habib Bourguiba']\u001b[0m\n",
      "Thought:\u001b[32;1m\u001b[1;3m I need to refine my search to include his accomplishments and impact.\n",
      "Action: Search[Mahatma Gandhi accomplishments impact]\u001b[0m\n",
      "Observation: \u001b[36;1m\u001b[1;3mMahatma Gandhi's statements, letters and life have attracted much political and scholarly analysis of his principles, practices and beliefs, including what influenced him. Some writers present him as a paragon of ethical living and pacifism, while others present him as a more complex, contradictory and evolving character influenced by his culture and circumstances.\u001b[0m\n",
      "Thought:\u001b[32;1m\u001b[1;3m This information is not specific enough. I need to search for specific accomplishments and impact, such as his role in India's independence and his use of nonviolent resistance.\n",
      "Action: Search[Mahatma Gandhi India independence nonviolent resistance]\u001b[0m\n",
      "Observation: \u001b[36;1m\u001b[1;3mCould not find [Mahatma Gandhi India independence nonviolent resistance]. Similar: ['Gandhi Jayanti', 'Kasturba Gandhi', 'Mahatma Gandhi', 'Nonviolent revolution', 'Quit India speech', 'List of roads named after Mahatma Gandhi', 'Practices and beliefs of Mahatma Gandhi', 'Nonviolent resistance', 'Civil resistance', 'Non-cooperation movement (1919–1922)']\u001b[0m\n",
      "Thought:\u001b[32;1m\u001b[1;3m I need to refine my search even further to find specific information about his role in India's independence and his use of nonviolent resistance.\n",
      "Action: Search[Mahatma Gandhi India independence nonviolent resistance role]\u001b[0m\n",
      "Observation: \u001b[36;1m\u001b[1;3mCould not find [Mahatma Gandhi India independence nonviolent resistance role]. Similar: ['Gandhi Jayanti', 'Kasturba Gandhi', 'Mahatma Gandhi', 'Quit India speech', 'Practices and beliefs of Mahatma Gandhi', 'Nonviolent resistance', 'Civil resistance', 'Salt March', 'List of artistic depictions of Mahatma Gandhi', 'Indian independence movement']\u001b[0m\n",
      "Thought:\u001b[32;1m\u001b[1;3m I need to refine my search even further to find specific information about his role in India's independence and his use of nonviolent resistance.\n",
      "Action: Search[Mahatma Gandhi India independence nonviolent resistance role accomplishments]\u001b[0m\n",
      "Observation: \u001b[36;1m\u001b[1;3mMahatma Gandhi's statements, letters and life have attracted much political and scholarly analysis of his principles, practices and beliefs, including what influenced him. Some writers present him as a paragon of ethical living and pacifism, while others present him as a more complex, contradictory and evolving character influenced by his culture and circumstances.\u001b[0m\n",
      "Thought:\u001b[32;1m\u001b[1;3m This information is not specific enough. I need to search for specific accomplishments and impact, such as his role in India's independence and his use of nonviolent resistance.\n",
      "Action: Search[Mahatma Gandhi India independence nonviolent resistance role accomplishments impact]\u001b[0m\n",
      "Observation: \u001b[36;1m\u001b[1;3mCould not find [Mahatma Gandhi India independence nonviolent resistance role accomplishments impact]. Similar: ['Practices and beliefs of Mahatma Gandhi', 'India', 'Periyar', 'List of individuals nominated for the Nobel Peace Prize']\u001b[0m\n",
      "Thought:\u001b[32;1m\u001b[1;3m\u001b[0m\n",
      "\n",
      "\u001b[1m> Finished chain.\u001b[0m\n"
     ]
    },
    {
     "data": {
      "text/plain": [
       "{'input': 'Tell me a few key things about Mahatma Gandhi.',\n",
       " 'output': 'Agent stopped due to iteration limit or time limit.'}"
      ]
     },
     "execution_count": 4,
     "metadata": {},
     "output_type": "execute_result"
    }
   ],
   "source": [
    "docstore_agent.invoke({ \"input\" : \"Tell me a few key things about Mahatma Gandhi.\" })"
   ]
  },
  {
   "cell_type": "markdown",
   "id": "a12108dd",
   "metadata": {},
   "source": [
    "## Self-ask with Search\n",
    "This agent utilizes the Intermediate Answer tool for self-asking questions."
   ]
  },
  {
   "cell_type": "code",
   "execution_count": 9,
   "id": "5edca0f3",
   "metadata": {},
   "outputs": [],
   "source": [
    "from langchain.tools import DuckDuckGoSearchRun\n",
    "search = DuckDuckGoSearchRun()\n",
    "\n",
    "tools = [\n",
    "    Tool(\n",
    "        func=search.run,\n",
    "        name=\"Intermediate Answer\",\n",
    "        description=\"useful for when you need to search the internet for information\"\n",
    "    )\n",
    "\n",
    "]\n",
    "\n",
    "agent = initialize_agent(\n",
    "    tools=tools,\n",
    "    llm=llm,\n",
    "    agent=\"self-ask-with-search\",\n",
    "    verbose=True,\n",
    "    handle_parsing_errors=True\n",
    ")"
   ]
  },
  {
   "cell_type": "code",
   "execution_count": 10,
   "id": "b024ca1e",
   "metadata": {},
   "outputs": [
    {
     "name": "stdout",
     "output_type": "stream",
     "text": [
      "\n",
      "\n",
      "\u001b[1m> Entering new AgentExecutor chain...\u001b[0m\n",
      "\u001b[32;1m\u001b[1;3m Yes.\n",
      "Follow up: When did the first Moon landing take place?\u001b[0m\n",
      "Intermediate answer: \u001b[36;1m\u001b[1;3mApollo 11, U.S. spaceflight in which astronauts Neil Armstrong and Buzz Aldrin became the first people to walk on the Moon. Apollo 11 was the culmination of the Apollo program and a massive national commitment by the United States to beat the Soviet Union in putting people on the Moon. Neil Armstrong (1930-2012) was a U.S. astronaut who became the first human to walk on the moon on July 20, 1969, as part of the Apollo 11 mission. Neil Armstrong was the first person to walk on the moon. He was an astronaut. He flew on two space missions. One was Apollo 11. That mission landed on the moon. ... What do you do for an encore when you've just completed the first human Moon landing mission? You go on a 38-day around the world goodwill tour, visiting 29 cities in 24 countries ... On 20 July 1969, the world watched in anticipation as Apollo 11's 'Eagle' lunar module touched down on the moon's surface. From the early Apollo 1 tragedy to the social pressures that threatened the 1969 moon landing, spaceflight historian Amy Shira Teitel traces the history and legacy of NASA's early attempts to put man on the moon…. A spindly robotic lander named Odysseus — designed and built by a private U.S. company — touched down near the moon's south pole at about 6:23 p.m. Eastern time. The probe, which is carrying ...\u001b[0m\n",
      "\u001b[32;1m\u001b[1;3mIntermediate answer: The first Moon landing took place on July 20, 1969.\n",
      "Follow up: Who was the president of the USA at that time?\u001b[0m\n",
      "Intermediate answer: \u001b[36;1m\u001b[1;3mJoe Biden is the 46th president of the United States. The long-time U.S. senator also served as Barack Obama's vice president from 2009 until 2017. Joe Biden (born November 20, 1942, Scranton, Pennsylvania, U.S.) 46th president of the United States (2021- ) and 47th vice president of the United States (2009-17) in the Democratic administration of Pres. Barack Obama. He previously represented Delaware in the U.S. Senate (1973-2009). The term presidency of the United States of America refers to the chief executive office of the United States. In contrast to many countries with parliamentary forms of government, where the office is mainly ceremonial, in the U.S. the president is vested with great authority and is arguably the most powerful elected official in the world. In the 1920s, sculptor Gutzon Borglum and President Calvin Coolidge selected George Washington, Thomas Jefferson, Theodore Roosevelt and Abraham Lincoln (L to R) to appear on Mount Rushmore—it later became an iconic symbol of presidential greatness, chosen to represent the nation's birth, growth, development and preservation, respectively.. In political studies, surveys have been conducted ... The president of the United States is the: U.S. head of state; Chief executive of the federal government; Commander-in-Chief of the armed forces; Current president. The 46th and current president of the United States is Joseph R. Biden, Jr. He was sworn into office on January 20, 2021. Former U.S. presidents. The United States has had 45 former ...\u001b[0m\n",
      "\u001b[32;1m\u001b[1;3mCould not parse output: Intermediate answer: The president of the USA at the time of the first Moon landing was Richard Nixon.\u001b[0m\n",
      "Intermediate answer: Invalid or incomplete response\n",
      "\u001b[32;1m\u001b[1;3mSo the final answer is: Richard Nixon\u001b[0m\n",
      "\n",
      "\u001b[1m> Finished chain.\u001b[0m\n",
      "{'input': 'Question: Who was the president of USA when the first Moom landing took place?', 'output': 'Richard Nixon'}\n"
     ]
    }
   ],
   "source": [
    "print(agent.invoke(\"Question: Who was the president of USA when the first Moon landing took place?\"))"
   ]
  },
  {
   "cell_type": "markdown",
   "id": "d9a55eb7",
   "metadata": {},
   "source": [
    "The above code imports necessary modules from the LangChain library, including agents and language models. It sets up a conversational agent with a specific agent configuration called “self-ask-with-search”. The agent utilizes the “Intermediate Answer” tool, which performs Wikipedia searches."
   ]
  },
  {
   "cell_type": "code",
   "execution_count": null,
   "id": "7dbe03fc",
   "metadata": {},
   "outputs": [],
   "source": []
  },
  {
   "cell_type": "code",
   "execution_count": null,
   "id": "de75d8d8",
   "metadata": {},
   "outputs": [],
   "source": []
  },
  {
   "cell_type": "code",
   "execution_count": null,
   "id": "83a2ca08",
   "metadata": {},
   "outputs": [],
   "source": []
  }
 ],
 "metadata": {
  "kernelspec": {
   "display_name": "Python 3 (ipykernel)",
   "language": "python",
   "name": "python3"
  },
  "language_info": {
   "codemirror_mode": {
    "name": "ipython",
    "version": 3
   },
   "file_extension": ".py",
   "mimetype": "text/x-python",
   "name": "python",
   "nbconvert_exporter": "python",
   "pygments_lexer": "ipython3",
   "version": "3.12.0"
  }
 },
 "nbformat": 4,
 "nbformat_minor": 5
}
